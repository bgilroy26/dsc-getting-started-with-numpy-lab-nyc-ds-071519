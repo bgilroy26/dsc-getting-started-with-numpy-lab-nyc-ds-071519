{
 "cells": [
  {
   "cell_type": "markdown",
   "metadata": {},
   "source": [
    "# Getting Started with NumPy - Lab"
   ]
  },
  {
   "cell_type": "markdown",
   "metadata": {},
   "source": [
    "## Introduction"
   ]
  },
  {
   "cell_type": "markdown",
   "metadata": {},
   "source": [
    "Now that we have introduced NumPy, let's put it to practice. In this lab, we are going to be creating arrays, performing operations on them, and returning new arrays all using the NumPy library. Let's get started!"
   ]
  },
  {
   "cell_type": "markdown",
   "metadata": {},
   "source": [
    "## Objectives\n",
    "\n",
    "You will be able to: \n",
    "\n",
    "* Understand how to initialize NumPy arrays from nested Python lists and access elements using square brackets\n",
    "* Understand the shape attribute on NumPy arrays\n",
    "* Understand how to create arrays from scratch including np.zeros, np.ones, np.full\n",
    "* Learn to perform scalar and vector math  "
   ]
  },
  {
   "cell_type": "markdown",
   "metadata": {},
   "source": [
    "## Import NumPy under the standard alias"
   ]
  },
  {
   "cell_type": "code",
   "execution_count": 2,
   "metadata": {},
   "outputs": [],
   "source": [
    "#Your code here\n",
    "import numpy as np"
   ]
  },
  {
   "cell_type": "markdown",
   "metadata": {},
   "source": [
    "## Generating Some Mock Data"
   ]
  },
  {
   "cell_type": "markdown",
   "metadata": {},
   "source": [
    "Create a NumPy Array for each of the following:\n",
    "    1. Using a range\n",
    "    2. Using a Python List\n",
    "    \n",
    "Below, create a list in Python that has 5 elements (i.e. [0,1,2,3,4]) and assign it to the variable `py_list`. \n",
    "\n",
    "Next, do the same, but instead of a list, create a range with 5 elements and assign it to the variable, `py_range`.\n",
    "\n",
    "Finally, use the list and range to create NumPy arrays and assign the array from list to the variable `array_from_list`, and the array from the range to the variable `array_from_range`."
   ]
  },
  {
   "cell_type": "code",
   "execution_count": 2,
   "metadata": {},
   "outputs": [],
   "source": [
    "#Your code here\n",
    "py_list = list(range(5))\n",
    "py_range = range(5)\n",
    "array_from_list = np.array(py_list)\n",
    "array_from_range = np.array(py_range)"
   ]
  },
  {
   "cell_type": "markdown",
   "metadata": {},
   "source": [
    "Next, we have a list of heights and weights and we'd like to use them to create a collection of BMIs. However, they are both in inches and pounds (imperial system), respectively. \n",
    "\n",
    "Let's use what we know to create NumPy arrays with the metric equivalent values, (height in meters & weight in kg).\n",
    "\n",
    "> **Remember:** *NumPy can make these calculations a lot easier and with less code than a list!*"
   ]
  },
  {
   "cell_type": "markdown",
   "metadata": {},
   "source": [
    "> 1.0 inch = 0.0254 meters\n",
    "\n",
    "> 2.2046 lbs = 1 kilogram"
   ]
  },
  {
   "cell_type": "code",
   "execution_count": 15,
   "metadata": {},
   "outputs": [
    {
     "data": {
      "text/plain": [
       "[1.651, 1.7271999999999998, 1.8541999999999998, 1.905, 1.9811999999999999]"
      ]
     },
     "execution_count": 15,
     "metadata": {},
     "output_type": "execute_result"
    }
   ],
   "source": [
    "# use the conversion rate for turning height in inches to meters\n",
    "list_height_inches = [65, 68, 73, 75, 78]\n",
    "\n",
    "#Your code here\n",
    "list_height_meters = [.0254*x for x in list_height_inches]\n",
    "list_height_meters"
   ]
  },
  {
   "cell_type": "code",
   "execution_count": 14,
   "metadata": {},
   "outputs": [
    {
     "data": {
      "text/plain": [
       "[68.03955366052799,\n",
       " 63.50358341649279,\n",
       " 99.79134536877437,\n",
       " 92.98739000272158,\n",
       " 120.20321146693277]"
      ]
     },
     "execution_count": 14,
     "metadata": {},
     "output_type": "execute_result"
    }
   ],
   "source": [
    "# use the conversion rate for turning weight in pounds to kilograms\n",
    "list_weight_pounds = [150, 140, 220, 205, 265]\n",
    "\n",
    "#your code here\n",
    "list_weight_kilograms = [x/2.2046 for x in list_weight_pounds]\n",
    "list_weight_kilograms"
   ]
  },
  {
   "cell_type": "markdown",
   "metadata": {},
   "source": [
    "The metric formula for calculating BMI is as follows:\n",
    "\n",
    "> BMI = weight (kg) ÷ height^2 (m^2)\n",
    "\n",
    "So, to get BMI we divide weight by the squared value of height. For example, if I weighed 130kg and was 1.9 meters tall, the calculation would look like:\n",
    "\n",
    "> BMI = 130 / (1.9*1.9)\n",
    "\n",
    "Use the BMI calculation to create a NumPy array of BMIs"
   ]
  },
  {
   "cell_type": "code",
   "execution_count": 17,
   "metadata": {},
   "outputs": [
    {
     "data": {
      "text/plain": [
       "array([24.9613063 , 21.28692715, 29.02550097, 25.62324316, 30.62382485])"
      ]
     },
     "execution_count": 17,
     "metadata": {},
     "output_type": "execute_result"
    }
   ],
   "source": [
    "#Your code here\n",
    "weight_kg = np.array(list_weight_kilograms)\n",
    "height_m = np.array(list_height_meters)\n",
    "bmi = weight_kg/np.power(height_m, 2)\n",
    "bmi"
   ]
  },
  {
   "cell_type": "markdown",
   "metadata": {},
   "source": [
    "## Create a vector of ones the same size as your BMI vector using `np.ones()`"
   ]
  },
  {
   "cell_type": "code",
   "execution_count": 19,
   "metadata": {},
   "outputs": [],
   "source": [
    "#Your code here\n",
    "ones = np.ones(5)"
   ]
  },
  {
   "cell_type": "markdown",
   "metadata": {},
   "source": [
    "## Multiply the BMI_array by your vector of ones\n",
    "The resulting product should have the same values as your original BMI numpy array"
   ]
  },
  {
   "cell_type": "code",
   "execution_count": 20,
   "metadata": {},
   "outputs": [
    {
     "data": {
      "text/plain": [
       "array([24.9613063 , 21.28692715, 29.02550097, 25.62324316, 30.62382485])"
      ]
     },
     "execution_count": 20,
     "metadata": {},
     "output_type": "execute_result"
    }
   ],
   "source": [
    "#Your code here\n",
    "bmi*ones"
   ]
  },
  {
   "cell_type": "markdown",
   "metadata": {},
   "source": [
    "## Level Up: Using NumPy to Parse a File\n",
    "The pandas library that we've been using is built on top of NumPy; all columns/series in a Pandas DataFrame are built using NumPy arrays. To get a better idea of a how a built-in method like pd.read_csv() works, we'll try and recreate that here!"
   ]
  },
  {
   "cell_type": "code",
   "execution_count": 8,
   "metadata": {},
   "outputs": [
    {
     "name": "stdout",
     "output_type": "stream",
     "text": [
      "The file has 21 lines.\n"
     ]
    },
    {
     "data": {
      "text/plain": [
       "[{'Pt': array([1.00000000e+000, 2.00000000e+000, 3.00000000e+000, 4.00000000e+000,\n",
       "         5.00000000e+000, 6.00000000e+000, 7.00000000e+000, 8.00000000e+000,\n",
       "         9.00000000e+000, 1.00000000e+001, 1.10000000e+001, 1.20000000e+001,\n",
       "         1.30000000e+001, 1.40000000e+001, 1.50000000e+001, 1.60000000e+001,\n",
       "         1.70000000e+001, 1.80000000e+001, 1.90000000e+001, 2.00000000e+001,\n",
       "         8.37404147e+242])},\n",
       " {'BP': array([1.05000000e+002, 1.15000000e+002, 1.16000000e+002, 1.17000000e+002,\n",
       "         1.12000000e+002, 1.21000000e+002, 1.21000000e+002, 1.10000000e+002,\n",
       "         1.10000000e+002, 1.14000000e+002, 1.14000000e+002, 1.15000000e+002,\n",
       "         1.14000000e+002, 1.06000000e+002, 1.25000000e+002, 1.14000000e+002,\n",
       "         1.06000000e+002, 1.13000000e+002, 1.10000000e+002, 1.22000000e+002,\n",
       "         8.37404147e+242])},\n",
       " {'Age': array([4.70000000e+001, 4.90000000e+001, 4.90000000e+001, 5.00000000e+001,\n",
       "         5.10000000e+001, 4.80000000e+001, 4.90000000e+001, 4.70000000e+001,\n",
       "         4.90000000e+001, 4.80000000e+001, 4.70000000e+001, 4.90000000e+001,\n",
       "         5.00000000e+001, 4.50000000e+001, 5.20000000e+001, 4.60000000e+001,\n",
       "         4.60000000e+001, 4.60000000e+001, 4.80000000e+001, 5.60000000e+001,\n",
       "         8.37404147e+242])},\n",
       " {'Weight': array([8.54000000e+01, 9.42000000e+01, 9.53000000e+01, 9.47000000e+01,\n",
       "         8.94000000e+01, 9.95000000e+01, 9.98000000e+01, 9.09000000e+01,\n",
       "         8.92000000e+01, 9.27000000e+01, 9.44000000e+01, 9.41000000e+01,\n",
       "         9.16000000e+01, 8.71000000e+01, 1.01300000e+02, 9.45000000e+01,\n",
       "         8.70000000e+01, 9.45000000e+01, 9.05000000e+01, 9.57000000e+01,\n",
       "         7.11877806e-67])},\n",
       " {'BSA': array([1.75000000e+000, 2.10000000e+000, 1.98000000e+000, 2.01000000e+000,\n",
       "         1.89000000e+000, 2.25000000e+000, 2.25000000e+000, 1.90000000e+000,\n",
       "         1.83000000e+000, 2.07000000e+000, 2.07000000e+000, 1.98000000e+000,\n",
       "         2.05000000e+000, 1.92000000e+000, 2.19000000e+000, 1.98000000e+000,\n",
       "         1.87000000e+000, 1.90000000e+000, 1.88000000e+000, 2.09000000e+000,\n",
       "         6.90169103e-310])},\n",
       " {'Dur': array([5.10000000e+000, 3.80000000e+000, 8.20000000e+000, 5.80000000e+000,\n",
       "         7.00000000e+000, 9.30000000e+000, 2.50000000e+000, 6.20000000e+000,\n",
       "         7.10000000e+000, 5.60000000e+000, 5.30000000e+000, 5.60000000e+000,\n",
       "         1.02000000e+001, 5.60000000e+000, 1.00000000e+001, 7.40000000e+000,\n",
       "         3.60000000e+000, 4.30000000e+000, 9.00000000e+000, 7.00000000e+000,\n",
       "         6.90169096e-310])},\n",
       " {'Pulse': array([6.30000000e+001, 7.00000000e+001, 7.20000000e+001, 7.30000000e+001,\n",
       "         7.20000000e+001, 7.10000000e+001, 6.90000000e+001, 6.60000000e+001,\n",
       "         6.90000000e+001, 6.40000000e+001, 7.40000000e+001, 7.10000000e+001,\n",
       "         6.80000000e+001, 6.70000000e+001, 7.60000000e+001, 6.90000000e+001,\n",
       "         6.20000000e+001, 7.00000000e+001, 7.10000000e+001, 7.50000000e+001,\n",
       "         1.41529402e+161])},\n",
       " {'Stress': array([3.30000000e+001, 1.40000000e+001, 1.00000000e+001, 9.90000000e+001,\n",
       "         9.50000000e+001, 1.00000000e+001, 4.20000000e+001, 8.00000000e+000,\n",
       "         6.20000000e+001, 3.50000000e+001, 9.00000000e+001, 2.10000000e+001,\n",
       "         4.70000000e+001, 8.00000000e+001, 9.80000000e+001, 9.50000000e+001,\n",
       "         1.80000000e+001, 1.20000000e+001, 9.90000000e+001, 9.90000000e+001,\n",
       "         4.06260705e-237])}]"
      ]
     },
     "execution_count": 8,
     "metadata": {},
     "output_type": "execute_result"
    }
   ],
   "source": [
    "#Open a text file (csv files are just plaintext separated by commas)\n",
    "f = open('bp.txt')\n",
    "n_rows = len(f.readlines())\n",
    "print('The file has {} lines.'.format(n_rows)) #Print number of lines in the file\n",
    "f = open('bp.txt') #After using readlines, we must reopen the file\n",
    "n_cols = len(f.readline().split('\\t')) #The file has values separated by tabs; we read the first line and check it's length.\n",
    "\n",
    "f = open('bp.txt')\n",
    "\n",
    "#Your code here\n",
    "#Pseudocode outline below\n",
    "#1) Create a matrix of zeros that is the same size of the file\n",
    "#2) Iterate through the file: \"for line in f:\" Hint: using enumerate will also be required\n",
    "    #3) Update each row of the matrix with the new stream of data\n",
    "    #Hint: skip the first row (it's just column names, not the data.)\n",
    "#4) Preview your results; you should now have a NumPy matrix with the data from the file\n",
    "df = []\n",
    "blood_pressures = f.readlines()\n",
    "headers = blood_pressures.pop(0).strip().split('\\t')\n",
    "for header in headers:\n",
    "    df.append({header:np.empty(n_rows)})\n",
    "for idx, line in enumerate(blood_pressures):\n",
    "    values = line.strip().split('\\t')\n",
    "    for number, column in enumerate(headers):\n",
    "        df[number][column][idx] = values[number]\n",
    "df\n",
    "    \n"
   ]
  },
  {
   "cell_type": "markdown",
   "metadata": {},
   "source": [
    "## Summary"
   ]
  },
  {
   "cell_type": "markdown",
   "metadata": {},
   "source": [
    "In this lab, we practiced creating NumPy arrays from both lists and ranges. We then practiced performing math operations like converting imperial measurements to metric measurements on each element of a NumPy array to create new arrays with new values. Finally, we used both of our new NumPy arrays to operate on each other and create new arrays containing the BMIs from our arrays containing heights and weights."
   ]
  },
  {
   "cell_type": "code",
   "execution_count": 1,
   "metadata": {},
   "outputs": [
    {
     "name": "stdout",
     "output_type": "stream",
     "text": [
      "Pt\tBP\tAge\tWeight\tBSA\tDur\tPulse\tStress\r\n",
      "1\t105\t47\t85.4\t1.75\t5.1\t63\t33\r\n",
      "2\t115\t49\t94.2\t2.10\t3.8\t70\t14\r\n",
      "3\t116\t49\t95.3\t1.98\t8.2\t72\t10\r\n",
      "4\t117\t50\t94.7\t2.01\t5.8\t73\t99\r\n",
      "5\t112\t51\t89.4\t1.89\t7.0\t72\t95\r\n",
      "6\t121\t48\t99.5\t2.25\t9.3\t71\t10\r\n",
      "7\t121\t49\t99.8\t2.25\t2.5\t69\t42\r\n",
      "8\t110\t47\t90.9\t1.90\t6.2\t66\t8\r\n",
      "9\t110\t49\t89.2\t1.83\t7.1\t69\t62\r\n"
     ]
    }
   ],
   "source": [
    "!head bp.txt"
   ]
  },
  {
   "cell_type": "code",
   "execution_count": null,
   "metadata": {},
   "outputs": [],
   "source": []
  }
 ],
 "metadata": {
  "kernelspec": {
   "display_name": "Python 3",
   "language": "python",
   "name": "python3"
  },
  "language_info": {
   "codemirror_mode": {
    "name": "ipython",
    "version": 3
   },
   "file_extension": ".py",
   "mimetype": "text/x-python",
   "name": "python",
   "nbconvert_exporter": "python",
   "pygments_lexer": "ipython3",
   "version": "3.6.6"
  }
 },
 "nbformat": 4,
 "nbformat_minor": 2
}
